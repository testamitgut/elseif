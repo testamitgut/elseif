{
 "cells": [
  {
   "cell_type": "code",
   "execution_count": 11,
   "id": "1f04f8e0-ba3d-49e9-b778-8329dff02b1c",
   "metadata": {},
   "outputs": [],
   "source": [
    "a=10\n",
    "if a>10:\n",
    "    print(\"a is grater than 10\")\n",
    "    \n"
   ]
  },
  {
   "cell_type": "code",
   "execution_count": 12,
   "id": "1a9a6881-d2b9-4525-9900-be083f426454",
   "metadata": {},
   "outputs": [
    {
     "data": {
      "text/plain": [
       "False"
      ]
     },
     "execution_count": 12,
     "metadata": {},
     "output_type": "execute_result"
    }
   ],
   "source": [
    "a>10"
   ]
  },
  {
   "cell_type": "code",
   "execution_count": 14,
   "id": "3b90cd9b-352b-48f7-b78f-1dcb2b517e8b",
   "metadata": {},
   "outputs": [
    {
     "name": "stdout",
     "output_type": "stream",
     "text": [
      "a is grater than equal to 10 \n"
     ]
    }
   ],
   "source": [
    "a=10\n",
    "if a>=10 :\n",
    "    print(\"a is grater than equal to 10 \")"
   ]
  },
  {
   "cell_type": "code",
   "execution_count": 10,
   "id": "9f83aae2-c68f-4792-9bc9-86ce521d5af6",
   "metadata": {},
   "outputs": [
    {
     "data": {
      "text/plain": [
       "True"
      ]
     },
     "execution_count": 10,
     "metadata": {},
     "output_type": "execute_result"
    }
   ],
   "source": [
    "a>=10"
   ]
  },
  {
   "cell_type": "code",
   "execution_count": 24,
   "id": "d8b3f69a-f5ff-42c7-8829-8f3cf36e5743",
   "metadata": {},
   "outputs": [
    {
     "name": "stdout",
     "output_type": "stream",
     "text": [
      "this is my defalut\n"
     ]
    }
   ],
   "source": [
    "b=20\n",
    "if b > 30 :\n",
    "    print(\"yes b is  greater than 30\")\n",
    "elif b > 40 :\n",
    "    print(\" yes b is leser than 40\")\n",
    "elif b>100:\n",
    "    print(\"yes b is greater than 100\")\n",
    "else :\n",
    "    print(\"this is my defalut\")"
   ]
  },
  {
   "cell_type": "code",
   "execution_count": 16,
   "id": "b9f092e1-249e-40f1-b64e-01ce8fcd11e1",
   "metadata": {},
   "outputs": [
    {
     "data": {
      "text/plain": [
       "False"
      ]
     },
     "execution_count": 16,
     "metadata": {},
     "output_type": "execute_result"
    }
   ],
   "source": [
    "b>30"
   ]
  },
  {
   "cell_type": "code",
   "execution_count": 18,
   "id": "6fd153fa-bbc1-430d-98a7-3c6081790808",
   "metadata": {},
   "outputs": [
    {
     "data": {
      "text/plain": [
       "False"
      ]
     },
     "execution_count": 18,
     "metadata": {},
     "output_type": "execute_result"
    }
   ],
   "source": [
    "b>30"
   ]
  },
  {
   "cell_type": "code",
   "execution_count": 20,
   "id": "baa7fb44-5dab-49d8-ba68-86c764cfa197",
   "metadata": {},
   "outputs": [
    {
     "data": {
      "text/plain": [
       "True"
      ]
     },
     "execution_count": 20,
     "metadata": {},
     "output_type": "execute_result"
    }
   ],
   "source": [
    "b<40"
   ]
  },
  {
   "cell_type": "code",
   "execution_count": 23,
   "id": "a34f035b-636b-4847-bc18-7da971612b5f",
   "metadata": {},
   "outputs": [
    {
     "data": {
      "text/plain": [
       "False"
      ]
     },
     "execution_count": 23,
     "metadata": {},
     "output_type": "execute_result"
    }
   ],
   "source": [
    "b>40"
   ]
  },
  {
   "cell_type": "code",
   "execution_count": 27,
   "id": "a2c2b196-7a4e-4ee6-a0c4-90ca487fd31f",
   "metadata": {},
   "outputs": [
    {
     "name": "stdin",
     "output_type": "stream",
     "text": [
      " 56\n"
     ]
    }
   ],
   "source": [
    "b=int(input())"
   ]
  },
  {
   "cell_type": "code",
   "execution_count": 30,
   "id": "d180a0af-dbdb-4ead-b92d-c0182f7adac8",
   "metadata": {},
   "outputs": [
    {
     "data": {
      "text/plain": [
       "90"
      ]
     },
     "execution_count": 30,
     "metadata": {},
     "output_type": "execute_result"
    }
   ],
   "source": [
    "b"
   ]
  },
  {
   "cell_type": "code",
   "execution_count": 29,
   "id": "5d79e751-620e-48f4-9c65-3a87de07b5e3",
   "metadata": {},
   "outputs": [
    {
     "data": {
      "text/plain": [
       "int"
      ]
     },
     "execution_count": 29,
     "metadata": {},
     "output_type": "execute_result"
    }
   ],
   "source": [
    "type(b)"
   ]
  },
  {
   "cell_type": "code",
   "execution_count": null,
   "id": "2cfb23a8-c98f-40d3-b39b-472a8cf4d0d8",
   "metadata": {},
   "outputs": [],
   "source": [
    "b=int(input())\n",
    "if b>30:\n",
    "    print(\"yes b is greater than 30\")\n",
    "elif b >40:\n",
    "    print(\" yse b is  leser than 40\")\n",
    "elif b>100:\n",
    "    print(\"yes b is greater than 100\")\n",
    "else:\n",
    "    print(\"this is my dfalut\")\n",
    "    \n"
   ]
  },
  {
   "cell_type": "code",
   "execution_count": null,
   "id": "7d205581-9b2d-43fd-8008-6eeb880a43c0",
   "metadata": {},
   "outputs": [],
   "source": [
    "n=4\n",
    "i=1\n",
    "while i<n:\n",
    "    print(i)\n",
    "    i=i+1\n",
    "else:\n",
    "    print(\"this is my else\")\n",
    "    \n",
    "    "
   ]
  },
  {
   "cell_type": "code",
   "execution_count": null,
   "id": "f57d236b-d824-43b0-8fec-8b3a3011aad8",
   "metadata": {},
   "outputs": [],
   "source": [
    "n=4\n",
    "i=1\n",
    "while i<n:\n",
    "    print(i)\n",
    "    i=i+1\n",
    "    if i==3:\n",
    "        break\n",
    "else :\n",
    "    print(\"this is my else\")\n",
    "    \n"
   ]
  },
  {
   "cell_type": "code",
   "execution_count": null,
   "id": "9e31cd74-599d-4e1b-989a-7bb6ec62d62c",
   "metadata": {},
   "outputs": [],
   "source": [
    "s=\"amit\"\n",
    "for i in s:\n",
    "    print(i)\n",
    "    "
   ]
  },
  {
   "cell_type": "code",
   "execution_count": null,
   "id": "d444602e-a784-4f9d-a4f0-0040b509e68b",
   "metadata": {},
   "outputs": [],
   "source": []
  },
  {
   "cell_type": "code",
   "execution_count": null,
   "id": "f1c498de-80f3-4af0-bb13-f788ef473c81",
   "metadata": {},
   "outputs": [],
   "source": []
  }
 ],
 "metadata": {
  "kernelspec": {
   "display_name": "Python 3 (ipykernel)",
   "language": "python",
   "name": "python3"
  },
  "language_info": {
   "codemirror_mode": {
    "name": "ipython",
    "version": 3
   },
   "file_extension": ".py",
   "mimetype": "text/x-python",
   "name": "python",
   "nbconvert_exporter": "python",
   "pygments_lexer": "ipython3",
   "version": "3.10.8"
  }
 },
 "nbformat": 4,
 "nbformat_minor": 5
}
